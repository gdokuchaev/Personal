{
 "cells": [
  {
   "cell_type": "code",
   "execution_count": 92,
   "metadata": {},
   "outputs": [],
   "source": [
    "import sqlite3\n",
    "import pandas as pd\n",
    "file = 'C:/Users/gdoku/YandexDisk/Компания/07 Учётные регистры и первичные документы/accounting.db'\n",
    "conn = sqlite3.connect(file)\n",
    "c = conn.cursor()\n",
    "\n",
    "tables = c.execute(\n",
    "    \"SELECT `name`, `sql` FROM `sqlite_master` WHERE type='table'\").fetchall()\n",
    "\n",
    "# Создаём временные таблицы\n",
    "for table in tables:\n",
    "    c.execute(\n",
    "        \"CREATE TABLE {} AS SELECT * FROM {}\".format(table[0]+'_temp', table[0]))\n",
    "\n",
    "# Удаляем старые таблицы\n",
    "for table in tables:\n",
    "    if 'temp' not in table[0]:\n",
    "        c.execute(\"DROP TABLE {}\".format(table[0]))\n",
    "\n",
    "# Создаём таблицы\n",
    "c.execute('CREATE TABLE IF NOT EXISTS sc_types (\\\n",
    "              sc_type_id INTEGER,\\\n",
    "              sc_type TEXT NOT NULL UNIQUE,\\\n",
    "              doc INTEGER NOT NULL CHECK (doc=0 OR doc=1) DEFAULT 0, \\\n",
    "              PRIMARY KEY (sc_type_id))'\n",
    "          )\n",
    "c.execute('CREATE TABLE IF NOT EXISTS accounts ( \\\n",
    "              account INTEGER, \\\n",
    "              account_name TEXT NOT NULL, \\\n",
    "              sc_type_id_1 INTEGER REFERENCES sc_types (sc_type_id), \\\n",
    "              sc_type_id_2 INTEGER REFERENCES sc_types (sc_type_id), \\\n",
    "              PRIMARY KEY (account)) WITHOUT ROWID'\n",
    "          )\n",
    "c.execute('CREATE TABLE IF NOT EXISTS document_types ( \\\n",
    "              document_type_id INTEGER, \\\n",
    "              document_type TEXT NOT NULL UNIQUE, \\\n",
    "              PRIMARY KEY (document_type_id))'\n",
    "          )\n",
    "c.execute('CREATE TABLE IF NOT EXISTS documents ( \\\n",
    "              document_id INTEGER, \\\n",
    "              document_type_id INTEGER NOT NULL REFERENCES document_types (document_type_id),\\\n",
    "              document_date TEXT CHECK (date(document_date) IS NOT NULL OR NULL), \\\n",
    "              document_number TEXT, \\\n",
    "              comment TEXT, \\\n",
    "              PRIMARY KEY (document_id))'\n",
    "          )\n",
    "c.execute('CREATE TABLE IF NOT EXISTS subcounts ( \\\n",
    "              subcount_id INTEGER, \\\n",
    "              sc_type_id INTEGER NOT NULL REFERENCES sc_types (sc_type_id), \\\n",
    "              sc_name TEXT, \\\n",
    "              document_id INTEGER REFERENCES documents (document_id),\\\n",
    "              archive INTEGER NOT NULL CHECK (archive=0 OR archive=1) DEFAULT 0, \\\n",
    "              PRIMARY KEY (subcount_id))'\n",
    "          )\n",
    "c.execute('CREATE TABLE IF NOT EXISTS operations ( \\\n",
    "            operation_id INTEGER,\\\n",
    "            value_date TEXT CHECK (date(value_date) IS NOT NULL),\\\n",
    "            creation_date TEXT NOT NULL CHECK (datetime(creation_date) IS NOT NULL) DEFAULT \\'now\\', \\\n",
    "            document_id INTEGER NOT NULL REFERENCES documents (document_id), \\\n",
    "            operation_type_id INTEGER, \\\n",
    "            registered INTEGER NOT NULL CHECK (registered=0 OR registered=1) DEFAULT 0, \\\n",
    "            PRIMARY KEY (operation_id))'\n",
    "          )\n",
    "# c.execute('CREATE VIEW IF NOT EXISTS oper_with_doc AS \\\n",
    "#                 SELECT \\\n",
    "#                   operations.operation_id, \\\n",
    "#                   operations.value_date, \\\n",
    "#                   operations.document_id, \\\n",
    "#                   documents.document_id, \\\n",
    "#                   documents.document_type_id, \\\n",
    "#                   documents.document_date, \\\n",
    "#                   documents.document_number, \\\n",
    "#                   documents.comment \\\n",
    "#                 FROM documents INNER JOIN operations ON documents.document_id = operations.document_id'\n",
    "#           )\n",
    "\n",
    "# Копируем данные\n",
    "for table in tables:\n",
    "    if 'temp' not in table[0]:\n",
    "        c.execute(\"INSERT INTO {} SELECT * FROM {}\".format(table[0], table[0]+'_temp'))\n",
    "\n",
    "# Удаляем временные таблицы\n",
    "for table in tables:\n",
    "    if 'temp' not in table[0]:\n",
    "        c.execute(\"DROP TABLE {}\".format(table[0]+'_temp'))\n",
    "\n",
    "conn.commit()\n",
    "conn.close()"
   ]
  },
  {
   "cell_type": "code",
   "execution_count": null,
   "metadata": {},
   "outputs": [],
   "source": []
  },
  {
   "cell_type": "code",
   "execution_count": 85,
   "metadata": {},
   "outputs": [
    {
     "name": "stdout",
     "output_type": "stream",
     "text": [
      "sc_types\n",
      "accounts\n",
      "document_types\n",
      "documents\n",
      "subcounts\n",
      "operations\n"
     ]
    },
    {
     "data": {
      "text/plain": [
       "[('sc_types_temp',\n",
       "  'CREATE TABLE sc_types_temp(\\n  sc_type_id INT,\\n  sc_type TEXT,\\n  doc INT\\n)'),\n",
       " ('accounts_temp',\n",
       "  'CREATE TABLE accounts_temp(\\n  account INT,\\n  account_name TEXT,\\n  sc_type_id_1 INT,\\n  sc_type_id_2 INT\\n)'),\n",
       " ('document_types_temp',\n",
       "  'CREATE TABLE document_types_temp(\\n  document_type_id INT,\\n  document_type TEXT\\n)'),\n",
       " ('documents_temp',\n",
       "  'CREATE TABLE documents_temp(\\n  document_id INT,\\n  document_type_id INT,\\n  document_date TEXT,\\n  document_number TEXT,\\n  comment TEXT\\n)'),\n",
       " ('subcounts_temp',\n",
       "  'CREATE TABLE subcounts_temp(\\n  subcount_id INT,\\n  sc_type_id INT,\\n  sc_name TEXT,\\n  document_id INT,\\n  archive INT\\n)'),\n",
       " ('operations_temp',\n",
       "  'CREATE TABLE operations_temp(\\n  operation_id INT,\\n  value_date TEXT,\\n  creation_date TEXT,\\n  document_id INT,\\n  operation_type_id INT,\\n  registered INT\\n)'),\n",
       " ('sc_types',\n",
       "  'CREATE TABLE sc_types (              sc_type_id INTEGER,              sc_type TEXT NOT NULL UNIQUE,              doc INTEGER NOT NULL CHECK (doc=0 OR doc=1) DEFAULT 0,               PRIMARY KEY (sc_type_id))'),\n",
       " ('accounts',\n",
       "  'CREATE TABLE accounts (               account INTEGER,               account_name TEXT NOT NULL,               sc_type_id_1 INTEGER REFERENCES sc_types (sc_type_id),               sc_type_id_2 INTEGER REFERENCES sc_types (sc_type_id),               PRIMARY KEY (account)) WITHOUT ROWID'),\n",
       " ('document_types',\n",
       "  'CREATE TABLE document_types (               document_type_id INTEGER,               document_type TEXT NOT NULL UNIQUE,               PRIMARY KEY (document_type_id))'),\n",
       " ('documents',\n",
       "  'CREATE TABLE documents (               document_id INTEGER,               document_type_id INTEGER NOT NULL REFERENCES document_types (document_type_id),              document_date TEXT CHECK (date(document_date) IS NOT NULL OR NULL),               document_number TEXT,               comment TEXT,               PRIMARY KEY (document_id))'),\n",
       " ('subcounts',\n",
       "  'CREATE TABLE subcounts (               subcount_id INTEGER,               sc_type_id INTEGER NOT NULL REFERENCES sc_types (sc_type_id),               sc_name TEXT,               document_id INTEGER REFERENCES documents (document_id),              archive INTEGER NOT NULL CHECK (archive=0 OR archive=1) DEFAULT 0,               PRIMARY KEY (subcount_id))'),\n",
       " ('operations',\n",
       "  \"CREATE TABLE operations (             operation_id INTEGER,            value_date TEXT CHECK (date(value_date) IS NOT NULL),            creation_date TEXT NOT NULL CHECK (datetime(creation_date) IS NOT NULL) DEFAULT 'now',             document_id INTEGER NOT NULL REFERENCES documents (document_id),             operation_type_id INTEGER,             registered INTEGER NOT NULL CHECK (registered=0 OR registered=1) DEFAULT 0,             PRIMARY KEY (operation_id))\")]"
      ]
     },
     "execution_count": 85,
     "metadata": {},
     "output_type": "execute_result"
    }
   ],
   "source": [
    "conn = sqlite3.connect(file)\n",
    "c = conn.cursor()\n",
    "# c.execute('ALTER TABLE sc_types \\\n",
    "#             ADD doc INTEGER CHECK (doc is NULL OR doc=1) \\\n",
    "#           ')\n",
    "data = c.execute(\n",
    "    \"SELECT `name`, `sql`\\\n",
    "  FROM `sqlite_master` \\\n",
    "  WHERE type='table'\").fetchall()\n",
    "#data = pd.DataFrame(data)\n",
    "for table in data:\n",
    "    if 'temp' not in table[0]:\n",
    "        print(table[0])\n",
    "#    c.execute(\"DROP TABLE {}\".format(table[0]+'_temp'))\n",
    "conn.close()\n",
    "data"
   ]
  },
  {
   "cell_type": "code",
   "execution_count": 94,
   "metadata": {},
   "outputs": [
    {
     "name": "stdout",
     "output_type": "stream",
     "text": [
      "Hello World!\n",
      "Hello World!\n",
      "Hello World!\n"
     ]
    }
   ],
   "source": [
    "from tkinter import *\n",
    "\n",
    "root = Tk()\n",
    "root.title(\"Hello World!\")\n",
    "root.geometry('300x40')\n",
    "\n",
    "def button_clicked():\n",
    "    print(\"Hello World!\")\n",
    "\n",
    "def close():\n",
    "    root.destroy()\n",
    "    root.quit()\n",
    "\n",
    "button = Button(root, text=\"Press Me\", command=button_clicked)\n",
    "button.pack(fill=BOTH)\n",
    "\n",
    "root.protocol('WM_DELETE_WINDOW', close)\n",
    "\n",
    "root.mainloop()"
   ]
  },
  {
   "cell_type": "code",
   "execution_count": 13,
   "metadata": {},
   "outputs": [
    {
     "ename": "SyntaxError",
     "evalue": "invalid syntax (<ipython-input-13-73bc24d9518c>, line 5)",
     "output_type": "error",
     "traceback": [
      "\u001b[1;36m  File \u001b[1;32m\"<ipython-input-13-73bc24d9518c>\"\u001b[1;36m, line \u001b[1;32m5\u001b[0m\n\u001b[1;33m    conn.close()\u001b[0m\n\u001b[1;37m       ^\u001b[0m\n\u001b[1;31mSyntaxError\u001b[0m\u001b[1;31m:\u001b[0m invalid syntax\n"
     ]
    }
   ],
   "source": [
    "# Создадим таблицы данных sc_types\n",
    "c.execute('CREATE TABLE IF NOT EXIST sc_types \\\n",
    "            (sc_type TEXT NOT NULL UNIQUE)'        \n",
    "conn.commit()\n",
    "conn.close()"
   ]
  },
  {
   "cell_type": "code",
   "execution_count": 5,
   "metadata": {},
   "outputs": [
    {
     "data": {
      "text/plain": [
       "[('2006-01-05', 'BUY', 'RHAT', 100.0, 35.14),\n",
       " ('2006-01-05', 'BUY', 'RHAT', 100.0, 35.14),\n",
       " ('2006-01-05', 'BUY', 'RHAT', 100.0, 35.14),\n",
       " ('2006-01-05', 'BUY', 'RHAT', 100.0, 35.14),\n",
       " ('2006-01-05', 'BUY', 'RHAT', 100.0, 35.14),\n",
       " ('2006-01-05', 'BUY', 'RHAT', 100.0, 35.14),\n",
       " ('2006-01-05', 'BUY', 'RHAT', 100.0, 35.14)]"
      ]
     },
     "execution_count": 5,
     "metadata": {},
     "output_type": "execute_result"
    }
   ],
   "source": [
    "data = cur.execute('SELECT * FROM stocks').fetchall()\n",
    "# data = data.fetchall()\n",
    "conn.close()\n",
    "data"
   ]
  },
  {
   "cell_type": "code",
   "execution_count": 4,
   "metadata": {},
   "outputs": [],
   "source": [
    "conn = sqlite3.connect('example.db')\n",
    "cur = conn.cursor()\n",
    "cur.execute(\"INSERT INTO stocks VALUES ('2006-01-05','BUY','RHAT',100,35.14)\")\n",
    "data = cur.execute('SELECT rowid, * FROM stocks').fetchall()\n",
    "conn.commit()\n",
    "conn.close()"
   ]
  },
  {
   "cell_type": "code",
   "execution_count": 6,
   "metadata": {},
   "outputs": [
    {
     "data": {
      "text/plain": [
       "[(1, '2006-01-05', 'BUY', 'RHAT', 100.0, 35.14),\n",
       " (2, '2006-01-05', 'BUY', 'RHAT', 100.0, 35.14),\n",
       " (3, '2006-01-05', 'BUY', 'RHAT', 100.0, 35.14),\n",
       " (4, '2006-01-05', 'BUY', 'RHAT', 100.0, 35.14),\n",
       " (5, '2006-01-05', 'BUY', 'RHAT', 100.0, 35.14),\n",
       " (6, '2006-01-05', 'BUY', 'RHAT', 100.0, 35.14)]"
      ]
     },
     "execution_count": 6,
     "metadata": {},
     "output_type": "execute_result"
    }
   ],
   "source": [
    "data"
   ]
  },
  {
   "cell_type": "code",
   "execution_count": 22,
   "metadata": {},
   "outputs": [],
   "source": [
    "import pandas as pd"
   ]
  },
  {
   "cell_type": "code",
   "execution_count": 23,
   "metadata": {},
   "outputs": [
    {
     "data": {
      "text/html": [
       "<div>\n",
       "<style scoped>\n",
       "    .dataframe tbody tr th:only-of-type {\n",
       "        vertical-align: middle;\n",
       "    }\n",
       "\n",
       "    .dataframe tbody tr th {\n",
       "        vertical-align: top;\n",
       "    }\n",
       "\n",
       "    .dataframe thead th {\n",
       "        text-align: right;\n",
       "    }\n",
       "</style>\n",
       "<table border=\"1\" class=\"dataframe\">\n",
       "  <thead>\n",
       "    <tr style=\"text-align: right;\">\n",
       "      <th></th>\n",
       "      <th>0</th>\n",
       "      <th>1</th>\n",
       "      <th>2</th>\n",
       "      <th>3</th>\n",
       "      <th>4</th>\n",
       "      <th>5</th>\n",
       "    </tr>\n",
       "  </thead>\n",
       "  <tbody>\n",
       "    <tr>\n",
       "      <td>0</td>\n",
       "      <td>1</td>\n",
       "      <td>2006-01-05</td>\n",
       "      <td>BUY</td>\n",
       "      <td>RHAT</td>\n",
       "      <td>100.0</td>\n",
       "      <td>35.14</td>\n",
       "    </tr>\n",
       "    <tr>\n",
       "      <td>1</td>\n",
       "      <td>2</td>\n",
       "      <td>2006-01-05</td>\n",
       "      <td>BUY</td>\n",
       "      <td>RHAT</td>\n",
       "      <td>100.0</td>\n",
       "      <td>35.14</td>\n",
       "    </tr>\n",
       "    <tr>\n",
       "      <td>2</td>\n",
       "      <td>3</td>\n",
       "      <td>2006-01-05</td>\n",
       "      <td>BUY</td>\n",
       "      <td>RHAT</td>\n",
       "      <td>100.0</td>\n",
       "      <td>35.14</td>\n",
       "    </tr>\n",
       "    <tr>\n",
       "      <td>3</td>\n",
       "      <td>4</td>\n",
       "      <td>2006-01-05</td>\n",
       "      <td>BUY</td>\n",
       "      <td>RHAT</td>\n",
       "      <td>100.0</td>\n",
       "      <td>35.14</td>\n",
       "    </tr>\n",
       "    <tr>\n",
       "      <td>4</td>\n",
       "      <td>5</td>\n",
       "      <td>2006-01-05</td>\n",
       "      <td>BUY</td>\n",
       "      <td>RHAT</td>\n",
       "      <td>100.0</td>\n",
       "      <td>35.14</td>\n",
       "    </tr>\n",
       "  </tbody>\n",
       "</table>\n",
       "</div>"
      ],
      "text/plain": [
       "   0           1    2     3      4      5\n",
       "0  1  2006-01-05  BUY  RHAT  100.0  35.14\n",
       "1  2  2006-01-05  BUY  RHAT  100.0  35.14\n",
       "2  3  2006-01-05  BUY  RHAT  100.0  35.14\n",
       "3  4  2006-01-05  BUY  RHAT  100.0  35.14\n",
       "4  5  2006-01-05  BUY  RHAT  100.0  35.14"
      ]
     },
     "execution_count": 23,
     "metadata": {},
     "output_type": "execute_result"
    }
   ],
   "source": [
    "pd.DataFrame(data)"
   ]
  },
  {
   "cell_type": "code",
   "execution_count": 32,
   "metadata": {},
   "outputs": [
    {
     "ename": "OperationalError",
     "evalue": "database is locked",
     "output_type": "error",
     "traceback": [
      "\u001b[1;31m---------------------------------------------------------------------------\u001b[0m",
      "\u001b[1;31mOperationalError\u001b[0m                          Traceback (most recent call last)",
      "\u001b[1;32m<ipython-input-32-901fbb0076cc>\u001b[0m in \u001b[0;36m<module>\u001b[1;34m\u001b[0m\n\u001b[0;32m      1\u001b[0m \u001b[1;31m# Create table\u001b[0m\u001b[1;33m\u001b[0m\u001b[1;33m\u001b[0m\u001b[1;33m\u001b[0m\u001b[0m\n\u001b[0;32m      2\u001b[0m c.execute('''CREATE TABLE stocks\n\u001b[1;32m----> 3\u001b[1;33m              (date text, trans text, symbol text, qty real, price real)''')\n\u001b[0m\u001b[0;32m      4\u001b[0m \u001b[1;33m\u001b[0m\u001b[0m\n\u001b[0;32m      5\u001b[0m \u001b[1;31m# Insert a row of data\u001b[0m\u001b[1;33m\u001b[0m\u001b[1;33m\u001b[0m\u001b[1;33m\u001b[0m\u001b[0m\n",
      "\u001b[1;31mOperationalError\u001b[0m: database is locked"
     ]
    }
   ],
   "source": [
    "# Create table\n",
    "c.execute('''CREATE TABLE stocks\n",
    "             (date text, trans text, symbol text, qty real, price real)''')\n",
    "\n",
    "# Insert a row of data\n",
    "c.execute(\"INSERT INTO stocks VALUES ('2006-01-05','BUY','RHAT',100,35.14)\")\n",
    "\n",
    "# Save (commit) the changes\n",
    "conn.commit()\n",
    "\n",
    "# We can also close the connection if we are done with it.\n",
    "# Just be sure any changes have been committed or they will be lost.\n",
    "conn.close()"
   ]
  },
  {
   "cell_type": "code",
   "execution_count": 34,
   "metadata": {},
   "outputs": [
    {
     "ename": "OperationalError",
     "evalue": "database is locked",
     "output_type": "error",
     "traceback": [
      "\u001b[1;31m---------------------------------------------------------------------------\u001b[0m",
      "\u001b[1;31mOperationalError\u001b[0m                          Traceback (most recent call last)",
      "\u001b[1;32m<ipython-input-34-3f018bbb09e9>\u001b[0m in \u001b[0;36m<module>\u001b[1;34m\u001b[0m\n\u001b[0;32m      1\u001b[0m \u001b[0mconn\u001b[0m \u001b[1;33m=\u001b[0m \u001b[0msqlite3\u001b[0m\u001b[1;33m.\u001b[0m\u001b[0mconnect\u001b[0m\u001b[1;33m(\u001b[0m\u001b[1;34m'example.db'\u001b[0m\u001b[1;33m)\u001b[0m\u001b[1;33m\u001b[0m\u001b[1;33m\u001b[0m\u001b[0m\n\u001b[0;32m      2\u001b[0m \u001b[0mc\u001b[0m \u001b[1;33m=\u001b[0m \u001b[0mconn\u001b[0m\u001b[1;33m.\u001b[0m\u001b[0mcursor\u001b[0m\u001b[1;33m(\u001b[0m\u001b[1;33m)\u001b[0m\u001b[1;33m\u001b[0m\u001b[1;33m\u001b[0m\u001b[0m\n\u001b[1;32m----> 3\u001b[1;33m \u001b[0mdata\u001b[0m \u001b[1;33m=\u001b[0m \u001b[0mc\u001b[0m\u001b[1;33m.\u001b[0m\u001b[0mexecute\u001b[0m\u001b[1;33m(\u001b[0m\u001b[1;34m'SELECT * FROM stocks'\u001b[0m\u001b[1;33m)\u001b[0m\u001b[1;33m\u001b[0m\u001b[1;33m\u001b[0m\u001b[0m\n\u001b[0m\u001b[0;32m      4\u001b[0m \u001b[0mconn\u001b[0m\u001b[1;33m.\u001b[0m\u001b[0mclose\u001b[0m\u001b[1;33m(\u001b[0m\u001b[1;33m)\u001b[0m\u001b[1;33m\u001b[0m\u001b[1;33m\u001b[0m\u001b[0m\n",
      "\u001b[1;31mOperationalError\u001b[0m: database is locked"
     ]
    }
   ],
   "source": [
    "conn = sqlite3.connect('example.db')\n",
    "c = conn.cursor()\n",
    "data = c.execute('SELECT * FROM stocks')\n",
    "conn.close()"
   ]
  },
  {
   "cell_type": "code",
   "execution_count": null,
   "metadata": {},
   "outputs": [],
   "source": [
    "c.execute(\"INSERT INTO stocks VALUES ('2006-01-05','BUY','RHAT',100,35.14)\")"
   ]
  },
  {
   "cell_type": "code",
   "execution_count": 12,
   "metadata": {},
   "outputs": [
    {
     "ename": "OperationalError",
     "evalue": "database is locked",
     "output_type": "error",
     "traceback": [
      "\u001b[1;31m---------------------------------------------------------------------------\u001b[0m",
      "\u001b[1;31mOperationalError\u001b[0m                          Traceback (most recent call last)",
      "\u001b[1;32m<ipython-input-12-33b6f6432227>\u001b[0m in \u001b[0;36m<module>\u001b[1;34m\u001b[0m\n\u001b[1;32m----> 1\u001b[1;33m \u001b[0mdata\u001b[0m \u001b[1;33m=\u001b[0m \u001b[0mc\u001b[0m\u001b[1;33m.\u001b[0m\u001b[0mexecute\u001b[0m\u001b[1;33m(\u001b[0m\u001b[1;34m'SELECT * FROM stocks'\u001b[0m\u001b[1;33m)\u001b[0m\u001b[1;33m\u001b[0m\u001b[1;33m\u001b[0m\u001b[0m\n\u001b[0m\u001b[0;32m      2\u001b[0m \u001b[0mdata\u001b[0m\u001b[1;33m.\u001b[0m\u001b[0mfetchall\u001b[0m\u001b[1;33m(\u001b[0m\u001b[1;33m)\u001b[0m\u001b[1;33m\u001b[0m\u001b[1;33m\u001b[0m\u001b[0m\n",
      "\u001b[1;31mOperationalError\u001b[0m: database is locked"
     ]
    }
   ],
   "source": [
    "data = c.execute('SELECT * FROM stocks')\n",
    "data.fetchall()"
   ]
  },
  {
   "cell_type": "code",
   "execution_count": 33,
   "metadata": {},
   "outputs": [],
   "source": [
    "c.close()\n",
    "conn.close()"
   ]
  },
  {
   "cell_type": "code",
   "execution_count": 25,
   "metadata": {},
   "outputs": [],
   "source": [
    "conn = sqlite3.connect('example.db')"
   ]
  },
  {
   "cell_type": "code",
   "execution_count": 26,
   "metadata": {},
   "outputs": [],
   "source": [
    "c = conn.cursor()"
   ]
  },
  {
   "cell_type": "code",
   "execution_count": 28,
   "metadata": {},
   "outputs": [
    {
     "ename": "OperationalError",
     "evalue": "database is locked",
     "output_type": "error",
     "traceback": [
      "\u001b[1;31m---------------------------------------------------------------------------\u001b[0m",
      "\u001b[1;31mOperationalError\u001b[0m                          Traceback (most recent call last)",
      "\u001b[1;32m<ipython-input-28-9e3a9c5ebbc1>\u001b[0m in \u001b[0;36m<module>\u001b[1;34m\u001b[0m\n\u001b[1;32m----> 1\u001b[1;33m \u001b[0mdata\u001b[0m \u001b[1;33m=\u001b[0m \u001b[0mc\u001b[0m\u001b[1;33m.\u001b[0m\u001b[0mexecute\u001b[0m\u001b[1;33m(\u001b[0m\u001b[1;34m'SELECT * FROM stocks'\u001b[0m\u001b[1;33m)\u001b[0m\u001b[1;33m\u001b[0m\u001b[1;33m\u001b[0m\u001b[0m\n\u001b[0m",
      "\u001b[1;31mOperationalError\u001b[0m: database is locked"
     ]
    }
   ],
   "source": [
    "data = c.execute('SELECT * FROM stocks')"
   ]
  },
  {
   "cell_type": "code",
   "execution_count": 27,
   "metadata": {},
   "outputs": [],
   "source": [
    "conn.commit()"
   ]
  },
  {
   "cell_type": "code",
   "execution_count": null,
   "metadata": {},
   "outputs": [],
   "source": []
  }
 ],
 "metadata": {
  "kernelspec": {
   "display_name": "Python 3",
   "language": "python",
   "name": "python3"
  },
  "language_info": {
   "codemirror_mode": {
    "name": "ipython",
    "version": 3
   },
   "file_extension": ".py",
   "mimetype": "text/x-python",
   "name": "python",
   "nbconvert_exporter": "python",
   "pygments_lexer": "ipython3",
   "version": "3.7.4"
  }
 },
 "nbformat": 4,
 "nbformat_minor": 2
}
